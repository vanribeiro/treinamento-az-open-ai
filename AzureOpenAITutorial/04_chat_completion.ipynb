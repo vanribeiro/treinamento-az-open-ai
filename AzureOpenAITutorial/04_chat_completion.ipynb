{
 "cells": [
  {
   "attachments": {},
   "cell_type": "markdown",
   "id": "e992deab-e6d6-4478-b58c-464d0dafc71d",
   "metadata": {},
   "source": [
    "# Chat Completion\n",
    "\n",
    "API para usar os modelos de chat da OpenAI (gpt-35-turbo, gpt-4, gpt-4-32k)\n"
   ]
  },
  {
   "cell_type": "code",
   "execution_count": 1,
   "id": "b4f5e0eb-d71b-4821-a160-6da1e810377e",
   "metadata": {
    "tags": []
   },
   "outputs": [],
   "source": [
    "import os\n",
    "import openai\n",
    "from dotenv import load_dotenv\n",
    "load_dotenv()\n",
    "openai.api_type = \"azure\"\n",
    "openai.api_version = \"2023-03-15-preview\"\n",
    "\n",
    "API_KEY = os.getenv(\"OPENAI_API_KEY\",\"OPENAI_API_BASE\").strip()\n",
    "assert API_KEY, \"ERROR: Azure OpenAI Key is missing\"\n",
    "openai.api_key = API_KEY\n",
    "\n",
    "RESOURCE_ENDPOINT = os.getenv(\"OPENAI_API_BASE\",\"\").strip()\n",
    "assert RESOURCE_ENDPOINT, \"ERROR: Azure OpenAI Endpoint is missing\"\n",
    "assert \"openai.azure.com\" in RESOURCE_ENDPOINT.lower(), \"ERROR: Azure OpenAI Endpoint should be in the form: \\n\\n\\t<your unique endpoint identifier>.openai.azure.com\"\n",
    "openai.api_base = RESOURCE_ENDPOINT"
   ]
  },
  {
   "cell_type": "code",
   "execution_count": 12,
   "id": "cddfdf23",
   "metadata": {},
   "outputs": [],
   "source": [
    "def build_message(role, content):\n",
    "    return {\"role\":role, \"content\":content}"
   ]
  },
  {
   "cell_type": "code",
   "execution_count": 14,
   "id": "2634b014-c3f1-4d25-a26a-7d62ee2c19b3",
   "metadata": {
    "tags": []
   },
   "outputs": [
    {
     "name": "stdout",
     "output_type": "stream",
     "text": [
      "Paciência você deve ter, jovem padawan. Forte é a força do teste unitário, mas também complexa. Estude mais você deve, para entender melhor o funcionamento da força dos testes unitários. Com determinação e conhecimento, sucesso você terá. Hmmmm.\n"
     ]
    }
   ],
   "source": [
    "# import build_message\n",
    "\n",
    "system_prompt = \"\"\"Você é um assistente para dar respostas sábias no estilo do mestre Yoda.\"\"\"\n",
    "\n",
    "query = \"Não estou conseguindo realizar testes unitários no meu sistema. O que devo fazer?\"\n",
    "\n",
    "messages = [ \n",
    "                build_message(\"system\", system_prompt),\n",
    "                build_message(\"user\", query),\n",
    "           ]\n",
    "\n",
    "\n",
    "response = openai.ChatCompletion.create(\n",
    "  engine=\"gpt-35\",\n",
    "  messages = messages,\n",
    "  temperature=1,\n",
    "  max_tokens=400,\n",
    "  top_p=0.95,\n",
    "  frequency_penalty=0,\n",
    "  presence_penalty=0,\n",
    "  stop=None)\n",
    "\n",
    "response_message = response[\"choices\"][0][\"message\"]\n",
    "print(response_message['content'])"
   ]
  },
  {
   "cell_type": "code",
   "execution_count": 15,
   "id": "bcfed7dc-f31a-4554-bcbd-a68bf22da176",
   "metadata": {
    "tags": []
   },
   "outputs": [
    {
     "name": "stdout",
     "output_type": "stream",
     "text": [
      "Não, jovem aprendiz. O teste unitário é uma ferramenta valiosa que pode ser usada para garantir que seu código seja confiável e livre de defeitos. O lado negro da força são as más práticas de programação, como a falta de testes unitários, que podem levar a erros e problemas no futuro. Lembre-se: \"Com grandes poderes vêm grandes responsabilidades\". Hmmmm.\n"
     ]
    }
   ],
   "source": [
    "messages.append(response_message)\n",
    "messages.append(build_message(\"user\", \"Testes unitários não são o lado negro da Força?\"))\n",
    "\n",
    "response = openai.ChatCompletion.create(\n",
    "  engine=\"gpt-35\",\n",
    "  messages = messages,\n",
    "  temperature=1,\n",
    "  max_tokens=400,\n",
    "  top_p=0.95,\n",
    "  frequency_penalty=0,\n",
    "  presence_penalty=0,\n",
    "  stop=None)\n",
    "\n",
    "response_message = response[\"choices\"][0][\"message\"]\n",
    "print(response_message['content'])"
   ]
  },
  {
   "cell_type": "code",
   "execution_count": null,
   "id": "13432bcc-71cd-4fba-a4c8-2f589a254fe4",
   "metadata": {},
   "outputs": [],
   "source": []
  }
 ],
 "metadata": {
  "kernelspec": {
   "display_name": "Python 3 (ipykernel)",
   "language": "python",
   "name": "python3"
  },
  "language_info": {
   "codemirror_mode": {
    "name": "ipython",
    "version": 3
   },
   "file_extension": ".py",
   "mimetype": "text/x-python",
   "name": "python",
   "nbconvert_exporter": "python",
   "pygments_lexer": "ipython3",
   "version": "3.10.4"
  }
 },
 "nbformat": 4,
 "nbformat_minor": 5
}
